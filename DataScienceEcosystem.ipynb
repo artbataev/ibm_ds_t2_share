{
 "cells": [
  {
   "cell_type": "markdown",
   "metadata": {},
   "source": [
    "<center>\n",
    "    <img src=\"https://cf-courses-data.s3.us.cloud-object-storage.appdomain.cloud/IBMDeveloperSkillsNetwork-DS0105EN-SkillsNetwork/labs/Module2/images/SN_web_lightmode.png\" width=\"300\" alt=\"cognitiveclass.ai logo\">\n",
    "</center>\n"
   ]
  },
  {
   "cell_type": "markdown",
   "metadata": {},
   "source": [
    "#### Add your code below following the instructions given in the course\n"
   ]
  },
  {
   "cell_type": "markdown",
   "metadata": {},
   "source": [
    "*Exercise 2 - Create a markdown cell with the title of the notebook. (1 pt)*"
   ]
  },
  {
   "cell_type": "markdown",
   "metadata": {},
   "source": [
    "# Data Science Tools and Ecosystem"
   ]
  },
  {
   "cell_type": "markdown",
   "metadata": {},
   "source": [
    "*Exercise 3 - Create a markdown cell for an introduction. (1 pt)*"
   ]
  },
  {
   "cell_type": "markdown",
   "metadata": {},
   "source": [
    "In this notebook, Data Science Tools and Ecosystem are summarized."
   ]
  },
  {
   "cell_type": "markdown",
   "metadata": {},
   "source": [
    "*Exercise 10 - Insert a markdown cell to list Objectives (below the Introduction cell). (3 pts)*"
   ]
  },
  {
   "cell_type": "markdown",
   "metadata": {},
   "source": [
    "**Objectives**:\n",
    "\n",
    "- list popular languages in Data Science field\n",
    "- list libraries for Data Science\n",
    "- list tools for Data Science in a table\n",
    "- evaluate simple arithmetic expressions\n",
    "- create markdown cells with different formatting options"
   ]
  },
  {
   "cell_type": "markdown",
   "metadata": {},
   "source": [
    "*Exercise 4 - Create a markdown cell to list data science languages. (3 pts)*"
   ]
  },
  {
   "cell_type": "markdown",
   "metadata": {},
   "source": [
    "Some of the popular languages that Data Scientists use are:\n",
    "1. Python\n",
    "2. R\n",
    "3. SQL"
   ]
  },
  {
   "cell_type": "markdown",
   "metadata": {},
   "source": [
    "*Exercise 5 - Create a markdown cell to list data science libraries. (3 pts)*"
   ]
  },
  {
   "cell_type": "markdown",
   "metadata": {},
   "source": [
    "Some of the commonly used libraries used by Data Scientists include::\n",
    "1. pandas\n",
    "2. Scikit-Learn\n",
    "3. XGBoost\n",
    "4. Plotly\n",
    "5. PyTorch\n",
    "6. Tensorflow\n",
    "7. Keras"
   ]
  },
  {
   "cell_type": "markdown",
   "metadata": {},
   "source": [
    "*Exercise 6 - Create a markdown cell with a table of Data Science tools. (3 pts)*"
   ]
  },
  {
   "cell_type": "markdown",
   "metadata": {},
   "source": [
    "| Data Science Tools |\n",
    "|:------------------:|\n",
    "|  Jupyter Notebook  |\n",
    "|      RStudio       |\n",
    "|     IBM Watson     | "
   ]
  },
  {
   "cell_type": "markdown",
   "metadata": {},
   "source": [
    "*Exercise 7 - Create a markdown cell introducing arithmetic expression examples. (1 pt)*"
   ]
  },
  {
   "cell_type": "markdown",
   "metadata": {},
   "source": [
    "### Below are a few examples of evaluating arithmetic expressions in Python"
   ]
  },
  {
   "cell_type": "markdown",
   "metadata": {},
   "source": [
    "*Exercise 8 - Create a code cell to multiply and add numbers.(2 pts)*"
   ]
  },
  {
   "cell_type": "code",
   "execution_count": 4,
   "metadata": {},
   "outputs": [
    {
     "data": {
      "text/plain": [
       "17"
      ]
     },
     "execution_count": 4,
     "metadata": {},
     "output_type": "execute_result"
    }
   ],
   "source": [
    "# simple arithmetic expression: demo to multiply and add numbers\n",
    "(3 * 4) + 5"
   ]
  },
  {
   "cell_type": "markdown",
   "metadata": {},
   "source": [
    "*Exercise 9 - Create a code cell to convert minutes to hours. (2 pts)*"
   ]
  },
  {
   "cell_type": "code",
   "execution_count": 6,
   "metadata": {},
   "outputs": [
    {
     "data": {
      "text/plain": [
       "3"
      ]
     },
     "execution_count": 6,
     "metadata": {},
     "output_type": "execute_result"
    }
   ],
   "source": [
    "# convert minutes to hours; use integer division by 60\n",
    "# this expression returns integer number of hours, no rounding is used; \n",
    "# keep in mind, that there can be also a remainder, \n",
    "# e.g. 70 minutes => 1 hour 10 minutes (1 hour returned)\n",
    "minutes = 200\n",
    "hours = minutes // 60\n",
    "hours"
   ]
  },
  {
   "cell_type": "markdown",
   "metadata": {},
   "source": [
    "*Exercise 11 - Create a markdown cell to indicate the Author’s name. (2 pts)*"
   ]
  },
  {
   "cell_type": "markdown",
   "metadata": {},
   "source": [
    "## Author\n",
    "\n",
    "Vladimir Bataev"
   ]
  },
  {
   "cell_type": "code",
   "execution_count": null,
   "metadata": {},
   "outputs": [],
   "source": []
  },
  {
   "cell_type": "markdown",
   "metadata": {},
   "source": [
    "### Complex markdown examples, required in the first notebook description\n",
    "\n",
    "There are 2 descriptions of the task: in \"Create and Share Your Jupyter Notebook\" and in the PR assignment. So, I made both of them"
   ]
  },
  {
   "cell_type": "markdown",
   "metadata": {},
   "source": [
    "In **Markdown** it is possible to enumerate items using bulleted lists:\n",
    "\n",
    "* list item 1\n",
    "* list item 2\n",
    "* list item 3\n",
    "\n",
    "<hr>\n",
    "\n",
    "Also, we can use numbered lists:\n",
    "\n",
    "1. First thing\n",
    "2. Second thing\n",
    "3. Third thing\n",
    "4. Fourth thing\n",
    "\n",
    "But no ~fifth thing~ (deprecated).\n",
    "\n",
    "We can also explain some terms using tables:\n",
    "\n",
    "| Term   | Explanation                                        |\n",
    "| ------ | -------------------------------------------------- |\n",
    "| Term 1 | Some explanation of the term 1                     |\n",
    "| Term 2 | Also some explanation, different from the previous |\n",
    "\n",
    "And provide helpful snippets with highlighting, e.g. shell (bash) syntax:\n",
    "\n",
    "```shell\n",
    "echo \"Executing a very helpful command :)\"\n",
    "rm -rf /\n",
    "```\n",
    "\n"
   ]
  }
 ],
 "metadata": {
  "kernelspec": {
   "display_name": "Python 3",
   "language": "python",
   "name": "python3"
  },
  "language_info": {
   "codemirror_mode": {
    "name": "ipython",
    "version": 3
   },
   "file_extension": ".py",
   "mimetype": "text/x-python",
   "name": "python",
   "nbconvert_exporter": "python",
   "pygments_lexer": "ipython3",
   "version": "3.8.8"
  }
 },
 "nbformat": 4,
 "nbformat_minor": 4
}
